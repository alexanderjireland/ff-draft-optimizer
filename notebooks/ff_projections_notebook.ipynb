{
 "cells": [
  {
   "cell_type": "markdown",
   "metadata": {
    "colab_type": "text",
    "id": "view-in-github"
   },
   "source": [
    "<a href=\"https://colab.research.google.com/github/alexanderjireland/ff-draft-optimizer/blob/main/notebooks/ff_projections_notebook.ipynb\" target=\"_parent\"><img src=\"https://colab.research.google.com/assets/colab-badge.svg\" alt=\"Open In Colab\"/></a>"
   ]
  },
  {
   "cell_type": "code",
   "execution_count": null,
   "metadata": {
    "id": "dg92HtTm4-Zt"
   },
   "outputs": [],
   "source": [
    "from ff_projections import *\n",
    "import pandas as pd\n",
    "import numpy as np"
   ]
  },
  {
   "cell_type": "code",
   "execution_count": null,
   "metadata": {
    "colab": {
     "base_uri": "https://localhost:8080/",
     "height": 1000,
     "referenced_widgets": [
      "5800b7ea86f14c7db65b5d50ddbe0a03",
      "a54756d548c8452fb6d53e15876790aa"
     ]
    },
    "id": "iob9Mi9kooMP",
    "outputId": "e0c92928-fe00-41ef-fdd2-c57fddfe68a7"
   },
   "outputs": [],
   "source": [
    "trace, X_test, y_test = split_data_and_train_pm_model('/content/projection_models_data_06_02.csv')"
   ]
  },
  {
   "cell_type": "code",
   "execution_count": null,
   "metadata": {
    "colab": {
     "base_uri": "https://localhost:8080/"
    },
    "id": "Ip878lltAgpF",
    "outputId": "d7aa5496-1098-4b23-8b14-c78440718b0b"
   },
   "outputs": [],
   "source": [
    "import os\n",
    "from google.colab import drive\n",
    "drive.mount('/content/drive')\n",
    "directory = \"/content/drive/MyDrive/PyMC_Models\"\n",
    "os.makedirs(directory, exist_ok=True)"
   ]
  },
  {
   "cell_type": "code",
   "execution_count": null,
   "metadata": {
    "colab": {
     "base_uri": "https://localhost:8080/",
     "height": 36
    },
    "id": "kNjJnXk7-YJw",
    "outputId": "b2bd4b07-b447-4200-c495-68d2b3beed79"
   },
   "outputs": [],
   "source": [
    "save_trace_filepath = \"/content/drive/MyDrive/PyMC_Models/full_send_model_06_03.nc\"\n",
    "az.to_netcdf(trace, save_trace_filepath)"
   ]
  },
  {
   "cell_type": "code",
   "execution_count": null,
   "metadata": {
    "id": "Q78kYLzhLZ_A"
   },
   "outputs": [],
   "source": [
    "# Load in trace\n",
    "save_trace_filepath = \"/content/drive/MyDrive/PyMC_Models/full_send_model_06_03.nc\"\n",
    "trace = az.from_netcdf(save_trace_filepath)"
   ]
  },
  {
   "cell_type": "code",
   "execution_count": null,
   "metadata": {
    "colab": {
     "base_uri": "https://localhost:8080/",
     "height": 491
    },
    "id": "LRe5yFyW_WfO",
    "outputId": "8ed331b9-4b6d-4eb1-f90f-441c0e7919f4"
   },
   "outputs": [],
   "source": [
    "az.plot_trace(trace)"
   ]
  },
  {
   "cell_type": "code",
   "execution_count": null,
   "metadata": {
    "colab": {
     "base_uri": "https://localhost:8080/",
     "height": 443
    },
    "id": "wO5PVlke_eQE",
    "outputId": "280758f2-33e8-4542-c228-63944a770fb9"
   },
   "outputs": [],
   "source": [
    "az.summary(trace)"
   ]
  },
  {
   "cell_type": "code",
   "execution_count": null,
   "metadata": {
    "colab": {
     "base_uri": "https://localhost:8080/",
     "height": 812
    },
    "id": "epbMNe73AHPp",
    "outputId": "73529a93-4763-4c89-f34d-7c8a8c2310a2"
   },
   "outputs": [],
   "source": [
    "predict_player(0, trace, X_test, y_test)"
   ]
  },
  {
   "cell_type": "code",
   "execution_count": null,
   "metadata": {
    "colab": {
     "base_uri": "https://localhost:8080/",
     "height": 812
    },
    "id": "Z8LVhg24BB0J",
    "outputId": "6ed18357-0748-4d46-819f-ccb943622033"
   },
   "outputs": [],
   "source": [
    "predict_player(350, trace, X_test, y_test)"
   ]
  },
  {
   "cell_type": "code",
   "execution_count": null,
   "metadata": {
    "colab": {
     "base_uri": "https://localhost:8080/",
     "height": 812
    },
    "id": "-kDTCjwpD0IF",
    "outputId": "26d84803-52a4-421d-9bf3-e5b6fd5a5630"
   },
   "outputs": [],
   "source": [
    "predict_player(399, trace, X_test, y_test)"
   ]
  },
  {
   "cell_type": "code",
   "execution_count": null,
   "metadata": {
    "id": "kgCGzz0ftQ_X"
   },
   "outputs": [],
   "source": [
    "pm_train, pm_test = read_in_data_for_projections(filepath='/content/projection_models_data_06_02.csv')"
   ]
  },
  {
   "cell_type": "code",
   "execution_count": null,
   "metadata": {
    "id": "Ov05jcHDaouj"
   },
   "outputs": [],
   "source": [
    "pm_test = pm_test.reset_index(drop=True)"
   ]
  },
  {
   "cell_type": "code",
   "execution_count": null,
   "metadata": {
    "colab": {
     "base_uri": "https://localhost:8080/",
     "height": 1000
    },
    "id": "XDlros3dBIJl",
    "outputId": "363ddabe-b914-47ae-f89b-02b330f4d870"
   },
   "outputs": [],
   "source": [
    "pm_test.sample(20)"
   ]
  },
  {
   "cell_type": "code",
   "execution_count": null,
   "metadata": {
    "colab": {
     "base_uri": "https://localhost:8080/",
     "height": 547
    },
    "id": "yF1ZeNQPs9p0",
    "outputId": "60fb5806-af4b-4a51-faad-48dc7b97bbfe"
   },
   "outputs": [],
   "source": [
    "filepath = '/content/drive/MyDrive/PyMC_Models/full_send_model_06_03_predictions.csv'\n",
    "df = create_probabilistic_predictions(trace, pm_test, X_test, save_to_csv=True, filepath=filepath)\n",
    "df"
   ]
  },
  {
   "cell_type": "code",
   "execution_count": null,
   "metadata": {
    "colab": {
     "base_uri": "https://localhost:8080/",
     "height": 547
    },
    "id": "SHDYJ-2gTq8V",
    "outputId": "c2eda901-47ae-41d3-b437-3a5869dafede"
   },
   "outputs": [],
   "source": [
    "test_df = df.merge(pm_test[['fantasy_pts']], left_index=True, right_index=True)\n",
    "test_df"
   ]
  },
  {
   "cell_type": "code",
   "execution_count": null,
   "metadata": {
    "colab": {
     "base_uri": "https://localhost:8080/",
     "height": 447
    },
    "id": "UIxv_nKFQmwc",
    "outputId": "8e42814d-f081-4aa0-f2e6-e0a6a2158a79"
   },
   "outputs": [],
   "source": [
    "import seaborn as sns\n",
    "sns.scatterplot(data=test_df, x='fantasy_pts', y='median_prediction')"
   ]
  },
  {
   "cell_type": "code",
   "execution_count": null,
   "metadata": {
    "colab": {
     "base_uri": "https://localhost:8080/"
    },
    "id": "wRxs4ikYVH19",
    "outputId": "8c5c2f39-c5fb-43e2-9e3a-a78f6a05e7e5"
   },
   "outputs": [],
   "source": [
    "from sklearn.metrics import r2_score, mean_squared_error\n",
    "#mean_squared_error(test_df['fantasy_pts'], test_df['median_prediction'])\n",
    "r2_score(test_df['fantasy_pts'], test_df['median_prediction'])"
   ]
  }
 ],
 "metadata": {
  "colab": {
   "authorship_tag": "ABX9TyNDUaz1z1rft/iMrgqB0CDz",
   "include_colab_link": true,
   "provenance": []
  },
  "kernelspec": {
   "display_name": "Python 3",
   "name": "python3"
  },
  "language_info": {
   "name": "python"
  }
 },
 "nbformat": 4,
 "nbformat_minor": 0
}
