{
 "cells": [
  {
   "cell_type": "markdown",
   "metadata": {
    "colab_type": "text",
    "id": "view-in-github"
   },
   "source": [
    "<a href=\"https://colab.research.google.com/github/alexanderjireland/ff-draft-optimizer/blob/main/notebooks/ff_projections_notebook.ipynb\" target=\"_parent\"><img src=\"https://colab.research.google.com/assets/colab-badge.svg\" alt=\"Open In Colab\"/></a>"
   ]
  },
  {
   "cell_type": "code",
   "execution_count": null,
   "metadata": {
    "id": "dg92HtTm4-Zt"
   },
   "outputs": [],
   "source": [
    "from ff_projections import *\n",
    "import pandas as pd\n",
    "import numpy as np"
   ]
  },
  {
   "cell_type": "code",
   "execution_count": null,
   "metadata": {
    "colab": {
     "base_uri": "https://localhost:8080/",
     "height": 998,
     "referenced_widgets": [
      "9a6752239dca4905a502eec94996d289",
      "f74f15854cb147d6a2a85c50f054349a"
     ]
    },
    "id": "iob9Mi9kooMP",
    "outputId": "c95fbabf-a945-4eaa-e089-b36b1364be28"
   },
   "outputs": [],
   "source": [
    "trace, X_test, y_test = split_data_and_train_pm_model('/content/projection_models_data_06_02.csv')"
   ]
  },
  {
   "cell_type": "code",
   "execution_count": null,
   "metadata": {
    "colab": {
     "base_uri": "https://localhost:8080/"
    },
    "id": "Ip878lltAgpF",
    "outputId": "f3ca7d23-d72f-48d7-da59-b4b171c6fa4e"
   },
   "outputs": [],
   "source": [
    "import os\n",
    "from google.colab import drive\n",
    "drive.mount('/content/drive')\n",
    "directory = \"/content/drive/MyDrive/PyMC_Models\"\n",
    "os.makedirs(directory, exist_ok=True)"
   ]
  },
  {
   "cell_type": "code",
   "execution_count": null,
   "metadata": {
    "colab": {
     "base_uri": "https://localhost:8080/",
     "height": 36
    },
    "id": "kNjJnXk7-YJw",
    "outputId": "8d1f1af3-a3d6-4d0a-abe2-f6341e8c7074"
   },
   "outputs": [],
   "source": [
    "save_trace_filepath = \"/content/drive/MyDrive/PyMC_Models/full_send_model_06_03.nc\"\n",
    "az.to_netcdf(trace, save_trace_filepath)"
   ]
  },
  {
   "cell_type": "code",
   "execution_count": null,
   "metadata": {
    "id": "Q78kYLzhLZ_A"
   },
   "outputs": [],
   "source": [
    "# Load in trace\n",
    "save_trace_filepath = \"/content/drive/MyDrive/PyMC_Models/full_send_model_06_03.nc\"\n",
    "trace = az.from_netcdf(save_trace_filepath)"
   ]
  },
  {
   "cell_type": "code",
   "execution_count": null,
   "metadata": {
    "colab": {
     "base_uri": "https://localhost:8080/",
     "height": 647
    },
    "id": "LRe5yFyW_WfO",
    "outputId": "f7c05e28-d27f-4af6-9542-07379398e0ec"
   },
   "outputs": [],
   "source": [
    "az.plot_trace(trace)"
   ]
  },
  {
   "cell_type": "code",
   "execution_count": null,
   "metadata": {
    "colab": {
     "base_uri": "https://localhost:8080/",
     "height": 423
    },
    "id": "wO5PVlke_eQE",
    "outputId": "995b5a94-1228-477e-bb25-df896f6f925a"
   },
   "outputs": [],
   "source": [
    "az.summary(trace)"
   ]
  },
  {
   "cell_type": "code",
   "execution_count": null,
   "metadata": {
    "colab": {
     "base_uri": "https://localhost:8080/",
     "height": 928
    },
    "id": "epbMNe73AHPp",
    "outputId": "4a2ed247-5ca7-4306-9b85-4fff83023275"
   },
   "outputs": [],
   "source": [
    "predict_player(0, trace, X_test, y_test)"
   ]
  },
  {
   "cell_type": "code",
   "execution_count": null,
   "metadata": {
    "colab": {
     "base_uri": "https://localhost:8080/",
     "height": 928
    },
    "id": "Z8LVhg24BB0J",
    "outputId": "2314bd6e-a1f8-418a-c061-53dcfec6cb07"
   },
   "outputs": [],
   "source": [
    "predict_player(350, trace, X_test, y_test)"
   ]
  },
  {
   "cell_type": "code",
   "execution_count": null,
   "metadata": {
    "colab": {
     "base_uri": "https://localhost:8080/",
     "height": 928
    },
    "id": "-kDTCjwpD0IF",
    "outputId": "55f3bc7b-e611-4cf2-c4d6-b5d181ba9cca"
   },
   "outputs": [],
   "source": [
    "predict_player(399, trace, X_test, y_test)"
   ]
  },
  {
   "cell_type": "code",
   "execution_count": null,
   "metadata": {
    "id": "kgCGzz0ftQ_X"
   },
   "outputs": [],
   "source": [
    "pm_train, pm_test = read_in_data_for_projections(filepath='/content/projection_models_data_06_02.csv')"
   ]
  },
  {
   "cell_type": "code",
   "execution_count": null,
   "metadata": {
    "id": "Ov05jcHDaouj"
   },
   "outputs": [],
   "source": [
    "pm_test = pm_test.reset_index(drop=True)"
   ]
  },
  {
   "cell_type": "code",
   "execution_count": null,
   "metadata": {
    "colab": {
     "base_uri": "https://localhost:8080/",
     "height": 1000
    },
    "id": "XDlros3dBIJl",
    "outputId": "945e30ae-0c00-4ec9-9467-1bace44060b3"
   },
   "outputs": [],
   "source": [
    "pm_test.sample(20)"
   ]
  },
  {
   "cell_type": "code",
   "execution_count": null,
   "metadata": {
    "colab": {
     "base_uri": "https://localhost:8080/",
     "height": 547
    },
    "id": "yF1ZeNQPs9p0",
    "outputId": "0f824e63-5446-4f8b-9320-62961fbccc5d"
   },
   "outputs": [],
   "source": [
    "filepath = '/content/drive/MyDrive/PyMC_Models/full_send_model_06_03_predictions.csv'\n",
    "df = create_probabilistic_predictions(trace, pm_test, X_test, save_to_csv=True, filepath=filepath)\n",
    "df"
   ]
  }
 ],
 "metadata": {
  "colab": {
   "authorship_tag": "ABX9TyPgpVM6KSlZdSouB+81iHWd",
   "include_colab_link": true,
   "provenance": []
  },
  "kernelspec": {
   "display_name": "Python 3",
   "name": "python3"
  },
  "language_info": {
   "name": "python"
  }
 },
 "nbformat": 4,
 "nbformat_minor": 0
}
